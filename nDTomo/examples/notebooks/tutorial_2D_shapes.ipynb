{
 "cells": [
  {
   "cell_type": "markdown",
   "metadata": {},
   "source": [
    "# Examples for 2D shapes"
   ]
  },
  {
   "cell_type": "markdown",
   "metadata": {},
   "source": [
    "This tutorial demonstrates how to create your own 2D phantom image using the nDTomo methods for creating 2D shapes"
   ]
  },
  {
   "cell_type": "code",
   "execution_count": null,
   "metadata": {},
   "outputs": [
    {
     "ename": "ModuleNotFoundError",
     "evalue": "No module named 'nDTomo.sim.shapes2D'",
     "output_type": "error",
     "traceback": [
      "\u001b[1;31m---------------------------------------------------------------------------\u001b[0m",
      "\u001b[1;31mModuleNotFoundError\u001b[0m                       Traceback (most recent call last)",
      "Cell \u001b[1;32mIn[1], line 3\u001b[0m\n\u001b[0;32m      1\u001b[0m \u001b[38;5;28;01mimport\u001b[39;00m \u001b[38;5;21;01mnumpy\u001b[39;00m \u001b[38;5;28;01mas\u001b[39;00m \u001b[38;5;21;01mnp\u001b[39;00m\n\u001b[0;32m      2\u001b[0m \u001b[38;5;28;01mimport\u001b[39;00m \u001b[38;5;21;01mmatplotlib\u001b[39;00m\u001b[38;5;21;01m.\u001b[39;00m\u001b[38;5;21;01mpyplot\u001b[39;00m \u001b[38;5;28;01mas\u001b[39;00m \u001b[38;5;21;01mplt\u001b[39;00m\n\u001b[1;32m----> 3\u001b[0m \u001b[38;5;28;01mfrom\u001b[39;00m \u001b[38;5;21;01mnDTomo\u001b[39;00m\u001b[38;5;21;01m.\u001b[39;00m\u001b[38;5;21;01msim\u001b[39;00m\u001b[38;5;21;01m.\u001b[39;00m\u001b[38;5;21;01mshapes2D\u001b[39;00m \u001b[38;5;28;01mimport\u001b[39;00m create_circle, create_rectangle, create_equilateral_triangle, create_ellipse, create_star, create_voronoi\n",
      "\u001b[1;31mModuleNotFoundError\u001b[0m: No module named 'nDTomo.sim.shapes2D'"
     ]
    }
   ],
   "source": [
    "import numpy as np\n",
    "import matplotlib.pyplot as plt\n",
    "from nDTomo.sim.shapes2D import create_circle, create_rectangle, create_triangle, create_equilateral_triangle, create_ellipse, create_star, create_voronoi"
   ]
  },
  {
   "cell_type": "code",
   "execution_count": null,
   "metadata": {},
   "outputs": [],
   "source": [
    "im = np.zeros((256, 256), dtype='float32')\n",
    "imn = create_circle(im, center=(50,50), radius=20, fill_value=2, thickness=4)\n",
    "imn = create_rectangle(im, corner=(50,50), width=10, height=30, fill_value=2)\n",
    "imn = create_equilateral_triangle(im, p1=(100,100), side=50, fill_value=1, orientation='random')\n",
    "imn = create_ellipse(im, center=(100,100), axes_radii=(20, 10), fill_value=1)\n",
    "imn = create_star(im, center=(100,100), n_points=7, r_outer=26, r_inner=12, \n",
    "                  fill_value=1, angle_offset=0.0)\n",
    "\n",
    "\n",
    "plt.figure(1);plt.clf()\n",
    "plt.imshow(imn, cmap='gray', interpolation='None')\n",
    "plt.colorbar()\n",
    "plt.show()"
   ]
  },
  {
   "cell_type": "code",
   "execution_count": null,
   "metadata": {},
   "outputs": [],
   "source": [
    "# Define random seed points\n",
    "size = (256, 256)\n",
    "num_points = 30\n",
    "seed_points = [(np.random.randint(0, size[0]), np.random.randint(0, size[1])) for _ in range(num_points)]\n",
    "\n",
    "# Generate Voronoi diagram\n",
    "img = np.zeros(size, dtype=int)\n",
    "imn = create_voronoi(img, seed_points)\n",
    "\n",
    "plt.figure(1);plt.clf()\n",
    "plt.imshow(imn, cmap='gray', interpolation='None')\n",
    "plt.colorbar()\n",
    "plt.title('Voronoi diagram')\n",
    "plt.show()"
   ]
  }
 ],
 "metadata": {
  "kernelspec": {
   "display_name": "ndtomo_light",
   "language": "python",
   "name": "python3"
  },
  "language_info": {
   "codemirror_mode": {
    "name": "ipython",
    "version": 3
   },
   "file_extension": ".py",
   "mimetype": "text/x-python",
   "name": "python",
   "nbconvert_exporter": "python",
   "pygments_lexer": "ipython3",
   "version": "3.8.19"
  }
 },
 "nbformat": 4,
 "nbformat_minor": 2
}
