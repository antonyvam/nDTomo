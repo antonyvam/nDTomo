{
 "cells": [
  {
   "cell_type": "markdown",
   "metadata": {},
   "source": [
    "# Examples for 3D shapes"
   ]
  },
  {
   "cell_type": "markdown",
   "metadata": {},
   "source": [
    "This tutorial demonstrates how to create your own 2D phantom image using the nDTomo methods for creating 2D shapes"
   ]
  },
  {
   "cell_type": "code",
   "execution_count": null,
   "metadata": {},
   "outputs": [
    {
     "ename": "ModuleNotFoundError",
     "evalue": "No module named 'nDTomo.sim.shapes2D'",
     "output_type": "error",
     "traceback": [
      "\u001b[1;31m---------------------------------------------------------------------------\u001b[0m",
      "\u001b[1;31mModuleNotFoundError\u001b[0m                       Traceback (most recent call last)",
      "Cell \u001b[1;32mIn[1], line 3\u001b[0m\n\u001b[0;32m      1\u001b[0m \u001b[38;5;28;01mimport\u001b[39;00m \u001b[38;5;21;01mnumpy\u001b[39;00m \u001b[38;5;28;01mas\u001b[39;00m \u001b[38;5;21;01mnp\u001b[39;00m\n\u001b[0;32m      2\u001b[0m \u001b[38;5;28;01mimport\u001b[39;00m \u001b[38;5;21;01mmatplotlib\u001b[39;00m\u001b[38;5;21;01m.\u001b[39;00m\u001b[38;5;21;01mpyplot\u001b[39;00m \u001b[38;5;28;01mas\u001b[39;00m \u001b[38;5;21;01mplt\u001b[39;00m\n\u001b[1;32m----> 3\u001b[0m \u001b[38;5;28;01mfrom\u001b[39;00m \u001b[38;5;21;01mnDTomo\u001b[39;00m\u001b[38;5;21;01m.\u001b[39;00m\u001b[38;5;21;01msim\u001b[39;00m\u001b[38;5;21;01m.\u001b[39;00m\u001b[38;5;21;01mshapes2D\u001b[39;00m \u001b[38;5;28;01mimport\u001b[39;00m create_circle, create_rectangle, create_equilateral_triangle, create_ellipse, create_star, create_voronoi\n",
      "\u001b[1;31mModuleNotFoundError\u001b[0m: No module named 'nDTomo.sim.shapes2D'"
     ]
    }
   ],
   "source": [
    "import numpy as np\n",
    "import matplotlib.pyplot as plt\n",
    "from nDTomo.sim.shapes2D import create_circle, create_rectangle, create_triangle, create_equilateral_triangle, create_ellipse, create_star, create_voronoi"
   ]
  },
  {
   "cell_type": "code",
   "execution_count": null,
   "metadata": {},
   "outputs": [],
   "source": [
    "\n",
    "# Create a 3D array of zeros\n",
    "shape = (256, 256, 256)  # (x, y, z)\n",
    "vol = np.zeros(shape, dtype='float32')\n",
    "\n",
    "# vol = create_sphere(vol, center=(150,150,100), outer_radius=50, thickness=0, fill_value=1)\n",
    "# vol = create_cylinder(vol, center_xy=(200, 25), z_range = (40, 65), outer_radius=50, \n",
    "#                       thickness=0, fill_value=12, caps=False)\n",
    "\n",
    "# vol = create_cone(vol, tip=(50,50,50), height=75, base_radius=100, fill_value=3)\n",
    "# # vol = create_cone_hollow(vol, tip=(100,100,50), height=75, outer_radius=100, thickness = 10, \n",
    "#                         #  fill_value=1, caps=True)\n",
    "\n",
    "vol = create_pyramid(vol, tip=(0,100,200), height=75, base_size=100, fill_value=4)\n",
    "# # vol = create_pyramid_hollow(vol, tip=(100,100,50), height=75, base_size=100, fill_value=1)\n",
    "\n",
    "# vol = create_torus(vol, center=(100,100,150), major_radius=50, minor_radius=20, fill_value=5, hollow_thickness=5)\n",
    "# vol = create_ellipsoid(vol, center=(100,100,50), radii=(50, 90, 15), fill_value=6, hollow_thickness=0)\n",
    "# vol = create_hexagonal_prism(vol, center_xy=(100,100), z_range=(180,240), outer_radius=10, fill_value=7)\n",
    "# # vol = create_mobius_strip(vol, center=(100,100,200), major_radius=100, width=20, num_points=10000, fill_value=8)\n",
    "# vol = create_menger_sponge(vol, center=(100,100,0), size=100, depth=3, fill_value=8)\n",
    "# vol = create_cube(vol, center=(250,0,240), size=50, fill_value=9)\n",
    "\n",
    "# num_points = 250\n",
    "# seed_points = [(np.random.randint(0, shape[0]), np.random.randint(0, shape[1]), np.random.randint(0, shape[2])) for _ in range(num_points)]\n",
    "\n",
    "# # Generate 3D Voronoi diagram\n",
    "# start = time.time()\n",
    "# vol = create_voronoi_3d(vol, seed_points)\n",
    "# print(f\"Time taken: {time.time() - start:.2f} seconds\")\n",
    "\n",
    "\n",
    "vol = vol/np.max(vol)\n",
    "vol[0,:,:] = 0\n",
    "vol[-1,:,:] = 0\n",
    "vol[:,0,:] = 0\n",
    "vol[:,-1,:] = 0\n",
    "vol[:,:,0] = 0\n",
    "vol[:,:,-1] = 0\n",
    "\n",
    "optimal_distance = max(shape) * 3 \n",
    "cx, cy, cz = np.array(shape) / 2  # ✅ Compute focal point\n",
    "\n",
    "from mayavi import mlab\n",
    "\n",
    "mlab.figure(bgcolor=(1, 1, 1))\n",
    "showvol(vol, opacity_mode = 'binary', thr = 0.1, interp = 'nearest')\n",
    "# mlab.view(elevation=90, distance=optimal_distance, focalpoint=(cx, cy, cz))"
   ]
  },
  {
   "cell_type": "code",
   "execution_count": null,
   "metadata": {},
   "outputs": [],
   "source": [
    "from tqdm import tqdm\n",
    "\n",
    "nshapes = 50\n",
    "ofs = 10\n",
    "shape = (256, 256, 512)  # (x, y, z)\n",
    "\n",
    "vol = np.zeros(shape, dtype='float32')\n",
    "\n",
    "for ii in tqdm(range(nshapes)):\n",
    "\n",
    "    xi = np.random.randint(0 + ofs, shape[0] - ofs)\n",
    "    yi = np.random.randint(0 + ofs, shape[1] - ofs)\n",
    "    zi = np.random.randint(0 + ofs, shape[2] - ofs)\n",
    "    val = np.random.rand(1)[0]\n",
    "\n",
    "    vol = create_pyramid(vol, tip=(xi,yi,zi), height=30, base_size=30, fill_value=val)\n",
    "\n",
    "    xi = np.random.randint(0 + ofs, shape[0] - ofs)\n",
    "    yi = np.random.randint(0 + ofs, shape[1] - ofs)\n",
    "    zi = np.random.randint(0 + ofs, shape[2] - ofs)\n",
    "    val = np.random.rand(1)[0]\n",
    "\n",
    "    vol = create_sphere(vol, center=(xi,yi,zi), radius=20, fill_value=val)\n",
    "\n",
    "    xi = np.random.randint(0 + ofs, shape[0] - ofs)\n",
    "    yi = np.random.randint(0 + ofs, shape[1] - ofs)\n",
    "    zi = np.random.randint(0 + ofs, shape[2] - ofs)\n",
    "    val = np.random.rand(1)[0]\n",
    "\n",
    "    vol = create_cube(vol, center=(xi,yi,zi), size=15, fill_value=val)\n",
    "    \n",
    "mlab.figure(bgcolor=(1, 1, 1))\n",
    "showvol(vol, opacity_mode = 'binary', thr = 0.1, interp = 'nearest')\n",
    "\n"
   ]
  }
 ],
 "metadata": {
  "kernelspec": {
   "display_name": "ndtomo_light",
   "language": "python",
   "name": "python3"
  },
  "language_info": {
   "codemirror_mode": {
    "name": "ipython",
    "version": 3
   },
   "file_extension": ".py",
   "mimetype": "text/x-python",
   "name": "python",
   "nbconvert_exporter": "python",
   "pygments_lexer": "ipython3",
   "version": "3.8.19"
  }
 },
 "nbformat": 4,
 "nbformat_minor": 2
}
