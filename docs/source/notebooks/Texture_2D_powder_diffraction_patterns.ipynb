{
 "cells": [
  {
   "cell_type": "markdown",
   "metadata": {},
   "source": [
    "# Impact of texture in 2D powder diffraction patterns\n",
    "\n",
    "## Using filters during 2D data integration\n",
    "\n",
    "In this notebook, we demonstrate the impact of texture when integrating 2D diffraction patterns.\n",
    "\n",
    "This texture arises from large crystals present along the X-ray beam path. If these crystals are relatively large compared to the illuminating X-ray beam size, then high intensity diffraction spots will appear in the acquired 2D diffraction patterns. Integrating these \"spotty\" 2D diffraction patterns can lead to major issues:\n",
    "\n",
    "1) The relative intensities in the integrated 1D diffraction pattern are arbitrary and cannot be modelled using a CIF. This is often solved by using preferred orientation but this does not describe the real phenomenon and any quantitative results regarding weight fractions in multicomponent systems have no value.\n",
    "\n",
    "2) In X-ray diffraction computed tomography, these will translate to spots in the sinogram data and eventually to line/streak artefacts in the reconstructed image. A more detailed study regarding the usage of filters to suppress single crystal artefacts in X-ray diffraction computed tomography (XRD-CT) can be found here: https://scripts.iucr.org/cgi-bin/paper?nb5157 \n",
    "\n",
    "A solution to this problem is to apply filters to the raw 2D diffraction patterns prior to data integration. These filters should be applied in the polar transformed images, not the raw 2D diffraction patterns. They supress the spotiness and convert the signel to more powder diffraction-like."
   ]
  },
  {
   "cell_type": "markdown",
   "metadata": {},
   "source": [
    "In this notebook, we will look a simple example to demonstrate this. First, let's import the required modules"
   ]
  },
  {
   "cell_type": "code",
   "execution_count": null,
   "metadata": {},
   "outputs": [],
   "source": [
    "import pyFAI, h5py\n",
    "import numpy as np\n",
    "import matplotlib.pyplot as plt"
   ]
  },
  {
   "cell_type": "markdown",
   "metadata": {},
   "source": [
    "Now provide the path to the data"
   ]
  },
  {
   "cell_type": "code",
   "execution_count": null,
   "metadata": {},
   "outputs": [],
   "source": [
    "p = '../../../examples/xrd2D/'"
   ]
  },
  {
   "cell_type": "markdown",
   "metadata": {},
   "source": [
    "Now read the poni calibration file and the two images"
   ]
  },
  {
   "cell_type": "code",
   "execution_count": null,
   "metadata": {},
   "outputs": [],
   "source": [
    "poni = \"%sSpotty_calib.poni\" %p\n",
    "ai = pyFAI.load(poni)\n",
    "\n",
    "data = \"%sSpotty.h5\" %p\n",
    "with h5py.File(data, 'r') as f:\n",
    "    im_powder = f['powder'][:]\n",
    "    im_spotty = f['spotty'][:]\n",
    "    "
   ]
  },
  {
   "cell_type": "markdown",
   "metadata": {},
   "source": [
    "Now let's plot the two images"
   ]
  },
  {
   "cell_type": "code",
   "execution_count": null,
   "metadata": {},
   "outputs": [],
   "source": [
    "plt.figure(1, figsize=(20,20));plt.clf()\n",
    "plt.imshow(im_powder, cmap='gray')\n",
    "plt.clim(0, 500)\n",
    "plt.show()\n",
    "\n",
    "plt.figure(2, figsize=(20,20));plt.clf()\n",
    "plt.imshow(im_spotty, cmap='gray')\n",
    "plt.clim(0, 500)\n",
    "plt.show()"
   ]
  },
  {
   "cell_type": "markdown",
   "metadata": {},
   "source": [
    "It can clearly be seen that the second 2D diffraction pattern is very spotty. It is possible to suppress this spottiness by applying an trimmed mean filter. Here, we apply a 30 % trimmed mean filter and compare the three integrated diffraction patterns: 1) the spots-free pattern after azimuthal integration, 2) the spotty pattern after azimuthal integration without filter and 3) the spotty pattern after azimuthal integration using a 30% trimmed mean filter."
   ]
  },
  {
   "cell_type": "code",
   "execution_count": null,
   "metadata": {},
   "outputs": [],
   "source": [
    "npt_rad = 1024\n",
    "\n",
    "tth, I = ai.integrate1d(data=im_powder, npt=npt_rad, unit=\"2th_deg\")\n",
    "tth, I_spotty = ai.integrate1d(data =im_spotty, npt=npt_rad, unit=\"2th_deg\")\n",
    "tth_filt, I_filt = ai.medfilt1d(data=im_spotty, npt_rad=npt_rad, unit=\"2th_deg\", percentile=(15,85))\n",
    "\n",
    "plt.figure(2, figsize=(15,15));plt.clf()\n",
    "plt.plot(tth,I)\n",
    "plt.plot(tth,I_spotty)\n",
    "plt.plot(tth_filt,I_filt)\n",
    "plt.legend(['Powder', 'Spotty - No filter', 'Spotty - 30% trimmed mean filter'])\n",
    "plt.xlim(12, 25)\n",
    "plt.ylim(0, 100)\n",
    "plt.show()\n"
   ]
  },
  {
   "cell_type": "markdown",
   "metadata": {},
   "source": [
    "We can see that the application of the trimmed mean filter leads to a 1D diffraction pattern that is much more similar to the powder pattern, in terms of relative peak intensities, compared to the one obtained without any filters."
   ]
  },
  {
   "cell_type": "markdown",
   "metadata": {},
   "source": [
    "In the collage below, we can see four image reconstructions (bottom row) from four corresponding sinograms (top row). It can be clearly seen that the spots present in the BaWO4 sinogram lead to line or strak artefacts in the reconstructed image."
   ]
  },
  {
   "cell_type": "markdown",
   "metadata": {},
   "source": [
    "![title](../_static/filt_1.png)"
   ]
  },
  {
   "cell_type": "markdown",
   "metadata": {},
   "source": [
    "The application of a light trimmed mean filter (3% in this case) in the raw 2D diffraction patterns during integration (polar transformed images) was able to remove these spots and lead to artefact-free reconstructed images."
   ]
  },
  {
   "cell_type": "markdown",
   "metadata": {},
   "source": [
    "![title](../_static/filt_2.png)"
   ]
  },
  {
   "cell_type": "markdown",
   "metadata": {},
   "source": [
    "A second example is provided in the collage below. It can be seen here that all sinograms suffer at some extent from the presence of spots."
   ]
  },
  {
   "cell_type": "markdown",
   "metadata": {},
   "source": [
    "![title](../_static/filt_3.png)"
   ]
  },
  {
   "cell_type": "markdown",
   "metadata": {},
   "source": [
    "Similarly to the previous example, the application of a light trimmed mean filter was able to remove these spots and lead to artefact-free reconstructed images. It is now possible to observe the spatial distribution of all phases."
   ]
  },
  {
   "cell_type": "markdown",
   "metadata": {},
   "source": [
    "![title](../_static/filt_4.png)"
   ]
  }
 ],
 "metadata": {
  "kernelspec": {
   "display_name": "Python 3 (ipykernel)",
   "language": "python",
   "name": "python3"
  },
  "language_info": {
   "codemirror_mode": {
    "name": "ipython",
    "version": 3
   },
   "file_extension": ".py",
   "mimetype": "text/x-python",
   "name": "python",
   "nbconvert_exporter": "python",
   "pygments_lexer": "ipython3",
   "version": "3.8.13"
  }
 },
 "nbformat": 4,
 "nbformat_minor": 4
}
