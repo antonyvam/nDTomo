{
 "cells": [
  {
   "cell_type": "markdown",
   "metadata": {},
   "source": [
    "# Preprocessing and correcting sinograms\n",
    "### **A Tutorial on sinogram handling**"
   ]
  },
  {
   "cell_type": "markdown",
   "metadata": {},
   "source": [
    "## **Overview**\n",
    "This tutorial introduces the key **sinogram preprocessing functions** in `nDTomo`, designed to handle raw pencil beam CT data before reconstruction. Preprocessing is essential to correct for experimental artefacts such as baseline offsets, beam intensity fluctuations, misalignment, and center of rotation drift — all of which can severely degrade the quality of the reconstructed image.\n",
    "\n",
    "These tools operate on both **2D sinograms** and **3D sinogram stacks** (e.g., spectral or z-resolved data), and are modular so you can tailor your preprocessing pipeline to your specific dataset and experimental setup.\n",
    "\n",
    "## **Objectives**\n",
    "By the end of this tutorial, you will:\n",
    "- Apply `nDTomo` functions to correct **background offsets**, **beam drift**, **motor jitter**, and **rotation misalignment**.\n",
    "- Understand how each function transforms the sinogram and why it’s necessary.\n",
    "- Build a robust preprocessing workflow for high-quality tomographic reconstruction.\n",
    "\n",
    "## **Sinogram Preprocessing Functions**\n",
    "\n",
    "### **1. `airrem` – Air Background Removal**\n",
    "Removes additive background signal (air signal) by estimating and subtracting it from edge rows of the sinogram. This is useful when portions of the sinogram (top/bottom) contain no sample.\n",
    "\n",
    "- **Modes**: `\"both\"`, `\"top\"`, `\"bottom\"` — determines where to sample air signal\n",
    "- **Offset (`ofs`)**: Number of rows used to estimate the background\n",
    "- **Column selection (`coli`, `colf`)**: Restrict estimation to specific columns\n",
    "- **Supports**: 2D and 3D sinograms (correction applied per projection)\n",
    "\n",
    "**Why use it?**  \n",
    "To suppress air-related background levels that would otherwise interfere with reconstruction or downstream fitting.\n",
    "\n",
    "### **2. `scalesinos` – Sinogram Normalization**\n",
    "Normalizes each projection by its total integrated intensity to account for fluctuations in beam intensity or sample attenuation.\n",
    "\n",
    "- Computes a **scaling factor per projection**\n",
    "- Divides each projection to normalize its sum relative to the maximum\n",
    "- Automatically handles 2D and 3D sinograms\n",
    "\n",
    "**Why use it?**  \n",
    "To equalize projection contributions and reduce artefacts from flux instability, detector gain drift, or sample thickness variations.\n",
    "\n",
    "### **3. `sinocomcor` – Common-Mode Correction / Motor Jitter Correction**\n",
    "Aligns projections based on their **center of mass** (COM), compensating for scan motor jitter or random translation shifts.\n",
    "\n",
    "- Uses the COM of each projection\n",
    "- Shifts projections using linear interpolation\n",
    "- Works for 2D and 3D sinograms\n",
    "\n",
    "**Why use it?**  \n",
    "To correct for lateral misalignments between projections caused by motor jitter or detector drift, improving reconstruction sharpness.\n",
    "\n",
    "### **4. `sinocentering` – Center of Rotation (COR) Alignment**\n",
    "Identifies and corrects the **center of rotation offset** by comparing projections at 0° and 180°.\n",
    "\n",
    "- Searches for COR by minimizing the standard deviation of flipped projections\n",
    "- Works with 180° or 360° scans\n",
    "- Optionally selects spectral channels to use\n",
    "- Applies correction using interpolation\n",
    "- Supports 2D and 3D inputs\n",
    "\n",
    "**Why use it?**  \n",
    "To ensure the reconstructed image is centered and symmetric. Misaligned rotation axes produce severe artefacts and incorrect geometries.\n",
    "\n",
    "## **How This Tutorial Works**\n",
    "- We begin with a raw sinogram or stack of sinograms.\n",
    "- Each preprocessing step is visualized to show its effect.\n",
    "- Intermediate results are plotted after each correction.\n",
    "- The final output is a clean, centered, and normalized sinogram ready for reconstruction (e.g., via filtered backprojection or DLSR).\n",
    "\n",
    "## **Why This Matters**\n",
    "- Preprocessing directly impacts the **fidelity of tomographic reconstructions**\n",
    "- Many artefacts (e.g., ringing, misalignments, loss of contrast) can be traced back to poor sinogram conditioning\n",
    "- These tools provide a **physically informed, user-adjustable**, and lightweight preprocessing pipeline for pencil beam CT\n",
    "\n",
    "Let’s now apply each of these functions in sequence and observe their effects."
   ]
  },
  {
   "cell_type": "code",
   "execution_count": 1,
   "metadata": {},
   "outputs": [
    {
     "ename": "ModuleNotFoundError",
     "evalue": "No module named 'nDTomo.sim.phantoms'",
     "output_type": "error",
     "traceback": [
      "\u001b[0;31m---------------------------------------------------------------------------\u001b[0m",
      "\u001b[0;31mModuleNotFoundError\u001b[0m                       Traceback (most recent call last)",
      "Cell \u001b[0;32mIn[1], line 3\u001b[0m\n\u001b[1;32m      1\u001b[0m \u001b[38;5;28;01mimport\u001b[39;00m \u001b[38;5;21;01mnumpy\u001b[39;00m \u001b[38;5;28;01mas\u001b[39;00m \u001b[38;5;21;01mnp\u001b[39;00m\n\u001b[1;32m      2\u001b[0m \u001b[38;5;28;01mimport\u001b[39;00m \u001b[38;5;21;01mmatplotlib\u001b[39;00m\u001b[38;5;21;01m.\u001b[39;00m\u001b[38;5;21;01mpyplot\u001b[39;00m \u001b[38;5;28;01mas\u001b[39;00m \u001b[38;5;21;01mplt\u001b[39;00m\n\u001b[0;32m----> 3\u001b[0m \u001b[38;5;28;01mfrom\u001b[39;00m \u001b[38;5;21;01mnDTomo\u001b[39;00m\u001b[38;5;21;01m.\u001b[39;00m\u001b[38;5;21;01msim\u001b[39;00m\u001b[38;5;21;01m.\u001b[39;00m\u001b[38;5;21;01mphantoms\u001b[39;00m \u001b[38;5;28;01mimport\u001b[39;00m SheppLogan\n",
      "\u001b[0;31mModuleNotFoundError\u001b[0m: No module named 'nDTomo.sim.phantoms'"
     ]
    }
   ],
   "source": [
    "import numpy as np\n",
    "import matplotlib.pyplot as plt\n",
    "from nDTomo.sim.phantoms import SheppLogan"
   ]
  },
  {
   "cell_type": "markdown",
   "metadata": {},
   "source": [
    "First we create a phantom object that we will use for our simulations"
   ]
  },
  {
   "cell_type": "code",
   "execution_count": null,
   "metadata": {},
   "outputs": [],
   "source": [
    "npix = 128\n",
    "img = SheppLogan(npix)\n",
    "\n",
    "\n"
   ]
  }
 ],
 "metadata": {
  "kernelspec": {
   "display_name": "ndtomo",
   "language": "python",
   "name": "python3"
  },
  "language_info": {
   "codemirror_mode": {
    "name": "ipython",
    "version": 3
   },
   "file_extension": ".py",
   "mimetype": "text/x-python",
   "name": "python",
   "nbconvert_exporter": "python",
   "pygments_lexer": "ipython3",
   "version": "3.8.18"
  }
 },
 "nbformat": 4,
 "nbformat_minor": 2
}
